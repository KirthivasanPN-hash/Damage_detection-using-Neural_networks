{
 "cells": [
  {
   "cell_type": "code",
   "execution_count": 1,
   "id": "cd41ac4b",
   "metadata": {},
   "outputs": [
    {
     "data": {
      "text/plain": [
       "'D:\\\\workspace\\\\Projects\\\\FInal year project'"
      ]
     },
     "execution_count": 1,
     "metadata": {},
     "output_type": "execute_result"
    }
   ],
   "source": [
    "pwd"
   ]
  },
  {
   "cell_type": "code",
   "execution_count": 6,
   "id": "cee6ab47",
   "metadata": {},
   "outputs": [
    {
     "name": "stdout",
     "output_type": "stream",
     "text": [
      "D:\\workspace\\Projects\\FInal year project\\.ipynb_checkpoints\n"
     ]
    }
   ],
   "source": [
    "cd .ipynb_checkpoints"
   ]
  },
  {
   "cell_type": "code",
   "execution_count": 7,
   "id": "b97c98e8",
   "metadata": {},
   "outputs": [
    {
     "name": "stdout",
     "output_type": "stream",
     "text": [
      "D:\\workspace\\Projects\\FInal year project\\.ipynb_checkpoints\\yolov5\n"
     ]
    }
   ],
   "source": [
    "cd yolov5"
   ]
  },
  {
   "cell_type": "markdown",
   "id": "d0fe28d9",
   "metadata": {},
   "source": [
    "Run the inference from the trained weights"
   ]
  },
  {
   "cell_type": "code",
   "execution_count": 10,
   "id": "e5adca85",
   "metadata": {},
   "outputs": [
    {
     "data": {
      "text/plain": [
       "'D:\\\\workspace\\\\Projects\\\\FInal year project\\\\.ipynb_checkpoints\\\\yolov5'"
      ]
     },
     "execution_count": 10,
     "metadata": {},
     "output_type": "execute_result"
    }
   ],
   "source": [
    "pwd"
   ]
  },
  {
   "cell_type": "code",
   "execution_count": 16,
   "id": "8679c84c",
   "metadata": {},
   "outputs": [
    {
     "name": "stdout",
     "output_type": "stream",
     "text": [
      "[WinError 2] The system cannot find the file specified: '/yolov5/'\n",
      "D:\\workspace\\Projects\\FInal year project\\.ipynb_checkpoints\\yolov5\n"
     ]
    },
    {
     "name": "stderr",
     "output_type": "stream",
     "text": [
      "\u001b[34m\u001b[1mdetect: \u001b[0mweights=['last.pt'], source=/test, data=data\\coco128.yaml, imgsz=[416, 416], conf_thres=0.4, iou_thres=0.45, max_det=1000, device=, view_img=False, save_txt=False, save_conf=False, save_crop=False, nosave=False, classes=None, agnostic_nms=False, augment=False, visualize=False, update=False, project=runs\\detect, name=exp, exist_ok=False, line_thickness=3, hide_labels=False, hide_conf=False, half=False, dnn=False, vid_stride=1\n",
      "fatal: cannot change to 'D:\\workspace\\Projects\\FInal': No such file or directory\n",
      "YOLOv5  2023-3-18 Python-3.9.16 torch-2.0.0+cpu CPU\n",
      "\n",
      "Fusing layers... \n",
      "custom_YOLOv5s summary: 182 layers, 7289670 parameters, 0 gradients\n",
      "Traceback (most recent call last):\n",
      "  File \"D:\\workspace\\Projects\\FInal year project\\.ipynb_checkpoints\\yolov5\\detect.py\", line 261, in <module>\n",
      "    main(opt)\n",
      "  File \"D:\\workspace\\Projects\\FInal year project\\.ipynb_checkpoints\\yolov5\\detect.py\", line 256, in main\n",
      "    run(**vars(opt))\n",
      "  File \"D:\\workspace\\Miniconda\\envs\\tensorflow\\lib\\site-packages\\torch\\utils\\_contextlib.py\", line 115, in decorate_context\n",
      "    return func(*args, **kwargs)\n",
      "  File \"D:\\workspace\\Projects\\FInal year project\\.ipynb_checkpoints\\yolov5\\detect.py\", line 111, in run\n",
      "    dataset = LoadImages(source, img_size=imgsz, stride=stride, auto=pt, vid_stride=vid_stride)\n",
      "  File \"D:\\workspace\\Projects\\FInal year project\\.ipynb_checkpoints\\yolov5\\utils\\dataloaders.py\", line 254, in __init__\n",
      "    raise FileNotFoundError(f'{p} does not exist')\n",
      "FileNotFoundError: D:\\test does not exist\n"
     ]
    }
   ],
   "source": [
    "%cd /yolov5/\n",
    "!python detect.py --weights last.pt --img 416 --conf 0.4 --source /test"
   ]
  },
  {
   "cell_type": "code",
   "execution_count": null,
   "id": "0180a412",
   "metadata": {},
   "outputs": [],
   "source": []
  }
 ],
 "metadata": {
  "kernelspec": {
   "display_name": "detectionz",
   "language": "python",
   "name": "detectionz"
  },
  "language_info": {
   "codemirror_mode": {
    "name": "ipython",
    "version": 3
   },
   "file_extension": ".py",
   "mimetype": "text/x-python",
   "name": "python",
   "nbconvert_exporter": "python",
   "pygments_lexer": "ipython3",
   "version": "3.9.16"
  }
 },
 "nbformat": 4,
 "nbformat_minor": 5
}
