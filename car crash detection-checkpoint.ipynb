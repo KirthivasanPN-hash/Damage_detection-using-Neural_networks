{
 "cells": [
  {
   "cell_type": "code",
   "execution_count": 1,
   "id": "8d90b84b",
   "metadata": {},
   "outputs": [
    {
     "data": {
      "text/plain": [
       "'D:\\\\workspace\\\\Projects\\\\F_year_proj\\\\.ipynb_checkpoints'"
      ]
     },
     "execution_count": 1,
     "metadata": {},
     "output_type": "execute_result"
    }
   ],
   "source": [
    "pwd"
   ]
  },
  {
   "cell_type": "code",
   "execution_count": 2,
   "id": "6ff73865",
   "metadata": {},
   "outputs": [
    {
     "name": "stdout",
     "output_type": "stream",
     "text": [
      "D:\\workspace\\Projects\\F_year_proj\\.ipynb_checkpoints\\yolov5\n"
     ]
    }
   ],
   "source": [
    "cd yolov5"
   ]
  },
  {
   "cell_type": "code",
   "execution_count": 3,
   "id": "daa47a35",
   "metadata": {},
   "outputs": [
    {
     "data": {
      "text/plain": [
       "'D:\\\\workspace\\\\Projects\\\\F_year_proj\\\\.ipynb_checkpoints\\\\yolov5'"
      ]
     },
     "execution_count": 3,
     "metadata": {},
     "output_type": "execute_result"
    }
   ],
   "source": [
    "pwd"
   ]
  },
  {
   "cell_type": "code",
   "execution_count": 5,
   "id": "30f4bcd9",
   "metadata": {},
   "outputs": [
    {
     "name": "stderr",
     "output_type": "stream",
     "text": [
      "\u001b[34m\u001b[1mdetect: \u001b[0mweights=['last.pt'], source=../test, data=data\\coco128.yaml, imgsz=[416, 416], conf_thres=0.4, iou_thres=0.45, max_det=1000, device=, view_img=False, save_txt=False, save_conf=False, save_crop=False, nosave=False, classes=None, agnostic_nms=False, augment=False, visualize=False, update=False, project=runs\\detect, name=exp, exist_ok=False, line_thickness=3, hide_labels=False, hide_conf=False, half=False, dnn=False, vid_stride=1\n",
      "YOLOv5  v7.0-72-g064365d Python-3.9.16 torch-2.0.0+cpu CPU\n",
      "\n",
      "Fusing layers... \n",
      "custom_YOLOv5s summary: 182 layers, 7289670 parameters, 0 gradients\n",
      "image 1/15 D:\\workspace\\Projects\\F_year_proj\\.ipynb_checkpoints\\test\\back_light-1----2021-09-11T202028-406_jpg.rf.90bae6775aa2202a8f72d36722a9ef17.jpg: 416x416 1 Taillight-Damage, 142.0ms\n",
      "image 2/15 D:\\workspace\\Projects\\F_year_proj\\.ipynb_checkpoints\\test\\back_light-1---1-_jpg.rf.f64ae87b836257a94549179637ba79f1.jpg: 416x416 (no detections), 105.0ms\n",
      "image 3/15 D:\\workspace\\Projects\\F_year_proj\\.ipynb_checkpoints\\test\\back_light-1---27-_jpg.rf.ebf184e2e9b5f73ef3fd54b2856b3b3c.jpg: 416x416 1 Taillight-Damage, 1 rear-bumper-dent, 107.0ms\n",
      "image 4/15 D:\\workspace\\Projects\\F_year_proj\\.ipynb_checkpoints\\test\\back_light-1---88-_jpg.rf.11dfb8b342ecb9aa36f80214e044349e.jpg: 416x416 1 front-bumper-dent, 104.0ms\n",
      "image 5/15 D:\\workspace\\Projects\\F_year_proj\\.ipynb_checkpoints\\test\\body_pannel--48-_jpg.rf.ef3c32c332f530099de9c32001a582eb.jpg: 416x416 1 doorouter-dent, 1 quaterpanel-dent, 110.0ms\n",
      "image 6/15 D:\\workspace\\Projects\\F_year_proj\\.ipynb_checkpoints\\test\\car-crash-accident-street-damaged-automobiles-collision-city-punch-side-machine-102034756_jpg.rf.8f49fa1e488b98aa92b3369fe70c9d13.jpg: 416x416 2 doorouter-dents, 1 fender-dent, 93.0ms\n",
      "image 7/15 D:\\workspace\\Projects\\F_year_proj\\.ipynb_checkpoints\\test\\car_fender--12-_jpg.rf.eb2ded001975840c15443c0dd966f9ea.jpg: 416x416 1 fender-dent, 1 front-bumper-dent, 100.0ms\n",
      "image 8/15 D:\\workspace\\Projects\\F_year_proj\\.ipynb_checkpoints\\test\\cat-d-car-write-off2_jpg.rf.9a593c9e677eaee1b42ca5798e43b6a2.jpg: 416x416 (no detections), 104.0ms\n",
      "image 9/15 D:\\workspace\\Projects\\F_year_proj\\.ipynb_checkpoints\\test\\checkup-done_jpeg_jpg.rf.01a647aa8cc31e5e723d69723f9300cb.jpg: 416x416 (no detections), 99.0ms\n",
      "image 10/15 D:\\workspace\\Projects\\F_year_proj\\.ipynb_checkpoints\\test\\door-crash-car-close-up-shot-59336085_jpg.rf.41c932c5a3bf5fa30bc927fa11def7cf.jpg: 416x416 1 doorouter-dent, 105.0ms\n",
      "image 11/15 D:\\workspace\\Projects\\F_year_proj\\.ipynb_checkpoints\\test\\download--2-_jpg.rf.4af79e8a78e262d8040267dac659231f.jpg: 416x416 1 Sidemirror-Damage, 113.0ms\n",
      "image 12/15 D:\\workspace\\Projects\\F_year_proj\\.ipynb_checkpoints\\test\\front_bumber--36-_jpg.rf.5d20dc6600ccac050c66bc6802731f24.jpg: 416x416 (no detections), 118.0ms\n",
      "image 13/15 D:\\workspace\\Projects\\F_year_proj\\.ipynb_checkpoints\\test\\front_bumber--39-_jpg.rf.9d4344a2bf06192c74a6b84a675ee5fb.jpg: 416x416 1 rear-bumper-dent, 117.0ms\n",
      "image 14/15 D:\\workspace\\Projects\\F_year_proj\\.ipynb_checkpoints\\test\\front_bumber--74-_jpg.rf.77710f9f933332b058332cb860c3c985.jpg: 416x416 1 front-bumper-dent, 119.0ms\n",
      "image 15/15 D:\\workspace\\Projects\\F_year_proj\\.ipynb_checkpoints\\test\\rear_bumber--63-_jpg.rf.5364fd73391f5585430950114b4d2309.jpg: 416x416 1 bonnet-dent, 116.0ms\n",
      "Speed: 0.9ms pre-process, 110.1ms inference, 0.6ms NMS per image at shape (1, 3, 416, 416)\n",
      "Results saved to \u001b[1mruns\\detect\\exp2\u001b[0m\n"
     ]
    }
   ],
   "source": [
    "!python detect.py --weights last.pt --img 416 --conf 0.4 --source ../test"
   ]
  },
  {
   "cell_type": "code",
   "execution_count": null,
   "id": "00dd626c",
   "metadata": {},
   "outputs": [],
   "source": []
  }
 ],
 "metadata": {
  "kernelspec": {
   "display_name": "Python 3 (ipykernel)",
   "language": "python",
   "name": "python3"
  },
  "language_info": {
   "codemirror_mode": {
    "name": "ipython",
    "version": 3
   },
   "file_extension": ".py",
   "mimetype": "text/x-python",
   "name": "python",
   "nbconvert_exporter": "python",
   "pygments_lexer": "ipython3",
   "version": "3.10.9"
  }
 },
 "nbformat": 4,
 "nbformat_minor": 5
}
